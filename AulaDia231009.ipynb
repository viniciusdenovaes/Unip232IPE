{
 "cells": [
  {
   "cell_type": "code",
   "execution_count": 11,
   "id": "34e666ef-bdb7-49d0-8a6f-15bd7f8d7352",
   "metadata": {},
   "outputs": [],
   "source": [
    "from operator import xor"
   ]
  },
  {
   "cell_type": "code",
   "execution_count": 1,
   "id": "3ca63cb5-660e-4e78-a7f0-8cab580e5fc3",
   "metadata": {},
   "outputs": [],
   "source": [
    "letra = 'a'"
   ]
  },
  {
   "cell_type": "code",
   "execution_count": 2,
   "id": "220ce4bc-27dd-4bf7-ae6b-3617cdb74ea3",
   "metadata": {},
   "outputs": [
    {
     "data": {
      "text/plain": [
       "97"
      ]
     },
     "execution_count": 2,
     "metadata": {},
     "output_type": "execute_result"
    }
   ],
   "source": [
    "ord(letra)"
   ]
  },
  {
   "cell_type": "code",
   "execution_count": 3,
   "id": "62a56e2d-c0d8-4b11-b1e4-0934f30c1df5",
   "metadata": {},
   "outputs": [],
   "source": [
    "palavra = 'abcde'"
   ]
  },
  {
   "cell_type": "code",
   "execution_count": 4,
   "id": "1783b032-51e7-4952-a1c1-0251a812396f",
   "metadata": {},
   "outputs": [
    {
     "ename": "TypeError",
     "evalue": "ord() expected a character, but string of length 5 found",
     "output_type": "error",
     "traceback": [
      "\u001b[0;31m---------------------------------------------------------------------------\u001b[0m",
      "\u001b[0;31mTypeError\u001b[0m                                 Traceback (most recent call last)",
      "Cell \u001b[0;32mIn[4], line 1\u001b[0m\n\u001b[0;32m----> 1\u001b[0m \u001b[38;5;28;43mord\u001b[39;49m\u001b[43m(\u001b[49m\u001b[43mpalavra\u001b[49m\u001b[43m)\u001b[49m\n",
      "\u001b[0;31mTypeError\u001b[0m: ord() expected a character, but string of length 5 found"
     ]
    }
   ],
   "source": [
    "ord(palavra)"
   ]
  },
  {
   "cell_type": "code",
   "execution_count": 6,
   "id": "55a3e5c7-7789-4cd7-a6b4-afe1b554d90a",
   "metadata": {},
   "outputs": [
    {
     "name": "stdout",
     "output_type": "stream",
     "text": [
      "97\n",
      "98\n",
      "99\n",
      "100\n",
      "101\n"
     ]
    }
   ],
   "source": [
    "for le in palavra:\n",
    "    print(ord(le))"
   ]
  },
  {
   "cell_type": "code",
   "execution_count": 8,
   "id": "7ffb821e-80ca-4afd-aaf9-2711ebe0ce78",
   "metadata": {},
   "outputs": [
    {
     "data": {
      "text/plain": [
       "[97, 98, 99, 100, 101]"
      ]
     },
     "execution_count": 8,
     "metadata": {},
     "output_type": "execute_result"
    }
   ],
   "source": [
    "# comprehension\n",
    "[ord(le) for le in palavra]"
   ]
  },
  {
   "cell_type": "code",
   "execution_count": 9,
   "id": "a048d58d-e4d6-44bc-9050-5ec02f92927b",
   "metadata": {},
   "outputs": [
    {
     "data": {
      "text/plain": [
       "'0b1100001'"
      ]
     },
     "execution_count": 9,
     "metadata": {},
     "output_type": "execute_result"
    }
   ],
   "source": [
    "bin(97)"
   ]
  },
  {
   "cell_type": "code",
   "execution_count": 10,
   "id": "1dba8834-98c1-4c98-a6f0-727f050446d7",
   "metadata": {},
   "outputs": [
    {
     "data": {
      "text/plain": [
       "'0b10'"
      ]
     },
     "execution_count": 10,
     "metadata": {},
     "output_type": "execute_result"
    }
   ],
   "source": [
    "bin(2)"
   ]
  },
  {
   "cell_type": "code",
   "execution_count": 12,
   "id": "37e4e288-531c-47d5-b7f5-225b26c789f8",
   "metadata": {},
   "outputs": [
    {
     "data": {
      "text/plain": [
       "1"
      ]
     },
     "execution_count": 12,
     "metadata": {},
     "output_type": "execute_result"
    }
   ],
   "source": [
    "xor(1, 0)"
   ]
  },
  {
   "cell_type": "code",
   "execution_count": 13,
   "id": "b316d204-519d-4f3b-bba3-14490823ccc6",
   "metadata": {},
   "outputs": [
    {
     "data": {
      "text/plain": [
       "0"
      ]
     },
     "execution_count": 13,
     "metadata": {},
     "output_type": "execute_result"
    }
   ],
   "source": [
    "xor(0, 0)"
   ]
  },
  {
   "cell_type": "code",
   "execution_count": 14,
   "id": "31aae1d6-87fb-4d69-8e66-71de30f84970",
   "metadata": {},
   "outputs": [
    {
     "data": {
      "text/plain": [
       "0"
      ]
     },
     "execution_count": 14,
     "metadata": {},
     "output_type": "execute_result"
    }
   ],
   "source": [
    "xor(1, 1)"
   ]
  },
  {
   "cell_type": "markdown",
   "id": "eb02f61f-0be1-46b4-b015-747cdefeb8d6",
   "metadata": {},
   "source": [
    "### Agora usando numpy"
   ]
  },
  {
   "cell_type": "code",
   "execution_count": 15,
   "id": "f51bc35f-0cd5-49a9-8191-b0eee27cef9c",
   "metadata": {},
   "outputs": [],
   "source": [
    "import numpy as np"
   ]
  },
  {
   "cell_type": "code",
   "execution_count": 16,
   "id": "b801d2c6-aec8-4266-89b9-20d665306a75",
   "metadata": {},
   "outputs": [
    {
     "data": {
      "text/plain": [
       "array([False,  True,  True, False])"
      ]
     },
     "execution_count": 16,
     "metadata": {},
     "output_type": "execute_result"
    }
   ],
   "source": [
    "np.logical_xor([0,1,0,1], [0,0,1,1])"
   ]
  },
  {
   "cell_type": "code",
   "execution_count": 18,
   "id": "c143eeb9-4649-4c40-9d1f-e6c78b232029",
   "metadata": {},
   "outputs": [
    {
     "data": {
      "text/plain": [
       "array([0, 1, 1, 0])"
      ]
     },
     "execution_count": 18,
     "metadata": {},
     "output_type": "execute_result"
    }
   ],
   "source": [
    "np.logical_xor([0,1,0,1], [0,0,1,1]).astype(int)"
   ]
  },
  {
   "cell_type": "code",
   "execution_count": 20,
   "id": "7c1f192e-4b3e-4ce8-b900-6c3f26372823",
   "metadata": {},
   "outputs": [
    {
     "data": {
      "text/plain": [
       "numpy.ndarray"
      ]
     },
     "execution_count": 20,
     "metadata": {},
     "output_type": "execute_result"
    }
   ],
   "source": [
    "type(np.logical_xor([0,1,0,1], [0,0,1,1]))"
   ]
  },
  {
   "cell_type": "code",
   "execution_count": null,
   "id": "7dcb0c79-d312-4077-96f7-e4a9bd9fc5c8",
   "metadata": {},
   "outputs": [],
   "source": []
  }
 ],
 "metadata": {
  "kernelspec": {
   "display_name": "Python 3 (ipykernel)",
   "language": "python",
   "name": "python3"
  },
  "language_info": {
   "codemirror_mode": {
    "name": "ipython",
    "version": 3
   },
   "file_extension": ".py",
   "mimetype": "text/x-python",
   "name": "python",
   "nbconvert_exporter": "python",
   "pygments_lexer": "ipython3",
   "version": "3.10.12"
  }
 },
 "nbformat": 4,
 "nbformat_minor": 5
}
