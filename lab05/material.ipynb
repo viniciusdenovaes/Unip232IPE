{
 "cells": [
  {
   "cell_type": "markdown",
   "metadata": {
    "collapsed": true,
    "pycharm": {
     "name": "#%% md\n"
    }
   },
   "source": [
    "# Conjuntos\n",
    "\n",
    "## Conceito Matemático\n",
    "\n",
    "Um conjunto é uma coleção de elementos únicos, ou seja, todos elementos são diferentes dois a dois."
   ]
  },
  {
   "cell_type": "markdown",
   "source": [
    "## Linguagem de Programação\n",
    "\n",
    "Linguagens de programação de alto nível, como Python (versão 3), Java, e C++ têm suporte para o uso de conjuntos.\n",
    "\n",
    "Como toda coleção você pode criar um conjunto, adicionar elementos, ver a quantidade de elementos, iterar na coleção, entre outras funções.\n",
    "\n",
    "Mas com a garantia que todos os elementos desta coleção são diferentes entre si, ou seja, se dois elementos iguais forem adicionados, um deles será ignorado."
   ],
   "metadata": {
    "collapsed": false
   }
  },
  {
   "cell_type": "markdown",
   "source": [
    "## Python\n",
    "\n",
    "Python tem suporte a conjuntos à partir da versão 3. Assim como o tipo de lista é `list`, o tipo de conjunto é `set`."
   ],
   "metadata": {
    "collapsed": false
   }
  },
  {
   "cell_type": "markdown",
   "source": [
    "### Criando conjuntos\n",
    "\n",
    "Para criar um conjunto em Python podemos usar as seguintes funções:\n",
    "- `set()`: cria um **novo** conjunto vazio\n",
    "- `set(l)`: cria um **novo** conjunto contendo os elementos da lista `l`\n",
    "- `{1, 2, 3}`: cria um **novo** conjunto contendo os elementos `1, 2, 3`"
   ],
   "metadata": {
    "collapsed": false
   }
  },
  {
   "cell_type": "markdown",
   "source": [
    "#### Exemplos"
   ],
   "metadata": {
    "collapsed": false
   }
  },
  {
   "cell_type": "code",
   "execution_count": null,
   "outputs": [],
   "source": [
    "set()"
   ],
   "metadata": {
    "collapsed": false,
    "pycharm": {
     "name": "#%%\n"
    }
   }
  },
  {
   "cell_type": "code",
   "execution_count": 4,
   "outputs": [
    {
     "data": {
      "text/plain": "{1, 2, 3}"
     },
     "execution_count": 4,
     "metadata": {},
     "output_type": "execute_result"
    }
   ],
   "source": [
    "set([1, 2, 3])"
   ],
   "metadata": {
    "collapsed": false,
    "pycharm": {
     "name": "#%%\n"
    }
   }
  },
  {
   "cell_type": "code",
   "execution_count": 7,
   "outputs": [
    {
     "data": {
      "text/plain": "{1, 2, 3}"
     },
     "execution_count": 7,
     "metadata": {},
     "output_type": "execute_result"
    }
   ],
   "source": [
    "set([1, 2, 3, 1, 2, 3])"
   ],
   "metadata": {
    "collapsed": false,
    "pycharm": {
     "name": "#%%\n"
    }
   }
  },
  {
   "cell_type": "code",
   "source": [
    "set([1, 1, 2, 2, 3, 3])"
   ],
   "metadata": {
    "collapsed": false,
    "pycharm": {
     "name": "#%%\n"
    }
   },
   "execution_count": 8,
   "outputs": [
    {
     "data": {
      "text/plain": "{1, 2, 3}"
     },
     "execution_count": 8,
     "metadata": {},
     "output_type": "execute_result"
    }
   ]
  },
  {
   "cell_type": "markdown",
   "source": [
    "### Funções\n",
    "\n",
    "Para usar as funcionalidades de um conjunto em Python podemos usar as seguintes funções:\n",
    "\n",
    "- `s.add(e)`: adiciona o elemento `e` ao conjunto `s`\n",
    "- `s.update(s2)`: adiciona os elementos do conjunto `s2` ao conjunto `s`\n",
    "- `len(s)`: retorna o tamanho do conjunto `s`"
   ],
   "metadata": {
    "collapsed": false
   }
  },
  {
   "cell_type": "markdown",
   "source": [
    "#### Exemplos"
   ],
   "metadata": {
    "collapsed": false
   }
  },
  {
   "cell_type": "code",
   "execution_count": 16,
   "outputs": [],
   "source": [
    "s = {1, 2, 3}"
   ],
   "metadata": {
    "collapsed": false,
    "pycharm": {
     "name": "#%%\n"
    }
   }
  },
  {
   "cell_type": "code",
   "execution_count": 17,
   "outputs": [
    {
     "data": {
      "text/plain": "{1, 2, 3, 4}"
     },
     "execution_count": 17,
     "metadata": {},
     "output_type": "execute_result"
    }
   ],
   "source": [
    "s.add(4)\n",
    "s"
   ],
   "metadata": {
    "collapsed": false,
    "pycharm": {
     "name": "#%%\n"
    }
   }
  },
  {
   "cell_type": "code",
   "source": [
    "s.add(1)\n",
    "s"
   ],
   "metadata": {
    "collapsed": false,
    "pycharm": {
     "name": "#%%\n"
    }
   },
   "execution_count": 18,
   "outputs": [
    {
     "data": {
      "text/plain": "{1, 2, 3, 4}"
     },
     "execution_count": 18,
     "metadata": {},
     "output_type": "execute_result"
    }
   ]
  },
  {
   "cell_type": "code",
   "execution_count": 19,
   "outputs": [],
   "source": [
    "s2 = {2, 4, 60, 80}"
   ],
   "metadata": {
    "collapsed": false,
    "pycharm": {
     "name": "#%%\n"
    }
   }
  },
  {
   "cell_type": "code",
   "source": [
    "s.update(s2)\n",
    "s"
   ],
   "metadata": {
    "collapsed": false,
    "pycharm": {
     "name": "#%%\n"
    }
   },
   "execution_count": 20,
   "outputs": [
    {
     "data": {
      "text/plain": "{1, 2, 3, 4, 60, 80}"
     },
     "execution_count": 20,
     "metadata": {},
     "output_type": "execute_result"
    }
   ]
  },
  {
   "cell_type": "markdown",
   "source": [
    "### Iterar\n",
    "\n",
    "Para iterar em um conjunto `s` basta iterar como em qualquer coleção:\n",
    "\n",
    "``` python\n",
    "for e in s:\n",
    "  print(e)\n",
    "```"
   ],
   "metadata": {
    "collapsed": false
   }
  },
  {
   "cell_type": "markdown",
   "source": [
    "#### exemplos"
   ],
   "metadata": {
    "collapsed": false
   }
  },
  {
   "cell_type": "code",
   "execution_count": 22,
   "outputs": [
    {
     "name": "stdout",
     "output_type": "stream",
     "text": [
      "0\n",
      "1\n",
      "5\n",
      "1000\n",
      "10\n",
      "2000\n",
      "50\n",
      "-5\n"
     ]
    }
   ],
   "source": [
    "s = {1000, 2000, 10, 1, 0, 50, 5, 0, -5, 5, -5}\n",
    "for e in s:\n",
    "    print(e)"
   ],
   "metadata": {
    "collapsed": false,
    "pycharm": {
     "name": "#%%\n"
    }
   }
  },
  {
   "cell_type": "code",
   "source": [],
   "metadata": {
    "collapsed": false,
    "pycharm": {
     "name": "#%%\n"
    }
   },
   "execution_count": null,
   "outputs": []
  },
  {
   "cell_type": "markdown",
   "source": [
    "### Operações Entre Conjuntos e Elementos\n",
    "\n",
    "Você também pode fazer operações entre conjuntos e elementos:\n",
    "- `e in s`: retorna se o elemento `e` pertence ao conjunto `s`\n",
    "- `s1.issubset(s2)`: se o conjunto `s1` é subconjunto (está contido) do conjunto `s2`\n",
    "- `s1.union(s2)`: retorna a união entre `s1` e `s2`\n",
    "- `s1.intersection(s2)`: retorna a intersecção entre `s1` e `s2`\n",
    "- `s1.difference(s2)`: retorna a diferença entre `s1` e `s2` (todos os elementos que estão em `s1` mas não estão em `s2`)\n",
    "\n",
    "## Exercícios\n",
    "\n",
    "### Exercício 01:\n",
    "\n",
    "Faça uma função que receba uma lista de elementos e retorne um conjunto com os elementos únicos da lista de entrada\n",
    "\n",
    "### Exercício 02:\n",
    "\n",
    "Faça uma função que receba uma lista de números e retorne o somatório de todos os números únicos da lista.\n",
    "\n",
    "### Exercício 03:\n",
    "\n",
    "Faça uma função que receba uma lista de números e retorne um conjunto com todos os números únicos que são pares.\n",
    "\n",
    "\n",
    "### Exercício 04:\n",
    "\n",
    "Faça uma função que receba duas listas de inteiros separados por espaço, e retorne um conjuntos com todos os números que estão **nas duas listas**, sem repetições.\n",
    "\n",
    "\n",
    "### Exercício 05:\n",
    "\n",
    "Faça uma função que receba duas listas de inteiros separados por espaço, e retorne um conjuntos com todos os números que estão em **pelo menos uma das duas listas**, sem repetições.\n",
    "\n",
    "\n",
    "### Exercício 06:\n",
    "\n",
    "Faça uma função que receba duas listas de inteiros separados por espaço, e retorne um conjuntos com todos os números que estão na primeira lista mas não está na segunda, sem repetições.\n",
    "\n",
    "\n",
    "\n",
    "\n",
    "[Respostas](https://github.com/viniciusdenovaes/Unip222IPE/tree/master/lab07)\n",
    "\n",
    "\n",
    "\n",
    "\n",
    "\n",
    "\n",
    "\n",
    ".\n"
   ],
   "metadata": {
    "collapsed": false
   }
  }
 ],
 "metadata": {
  "kernelspec": {
   "display_name": "Python 3",
   "language": "python",
   "name": "python3"
  },
  "language_info": {
   "codemirror_mode": {
    "name": "ipython",
    "version": 2
   },
   "file_extension": ".py",
   "mimetype": "text/x-python",
   "name": "python",
   "nbconvert_exporter": "python",
   "pygments_lexer": "ipython2",
   "version": "2.7.6"
  }
 },
 "nbformat": 4,
 "nbformat_minor": 0
}