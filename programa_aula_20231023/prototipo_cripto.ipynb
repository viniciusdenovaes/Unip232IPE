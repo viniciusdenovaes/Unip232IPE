{
 "cells": [
  {
   "cell_type": "code",
   "execution_count": 1,
   "id": "fa1cbd37-d86f-4caa-98dc-fbaf89ee73a1",
   "metadata": {},
   "outputs": [],
   "source": [
    "M = 'bomba'\n",
    "S = 'senha'"
   ]
  },
  {
   "cell_type": "code",
   "execution_count": 8,
   "id": "0eec8329-c497-44f0-b0a6-8ddb7dc6dda2",
   "metadata": {},
   "outputs": [],
   "source": [
    "def criptografa(M: str, S: str)-> str:\n",
    "    res = ''\n",
    "    for letra, letra_senha in zip(M, S):\n",
    "        print(letra, letra_senha)\n",
    "\n",
    "    return res\n"
   ]
  },
  {
   "cell_type": "code",
   "execution_count": 3,
   "id": "7274e8b5-32b7-4bf5-889f-26992d28429d",
   "metadata": {},
   "outputs": [
    {
     "name": "stdout",
     "output_type": "stream",
     "text": [
      "b s\n",
      "o e\n",
      "m n\n",
      "b h\n",
      "a a\n"
     ]
    },
    {
     "data": {
      "text/plain": [
       "''"
      ]
     },
     "execution_count": 3,
     "metadata": {},
     "output_type": "execute_result"
    }
   ],
   "source": [
    "criptografa(M, S)"
   ]
  },
  {
   "cell_type": "code",
   "execution_count": 85,
   "id": "b2ac8458-b74b-4104-8f65-55540f762f21",
   "metadata": {},
   "outputs": [],
   "source": [
    "def letra_to_int(letra : str) -> int:\n",
    "    return ord(letra)"
   ]
  },
  {
   "cell_type": "code",
   "execution_count": 86,
   "id": "03be1df6-c5ac-44ea-897e-c8e53a7377ac",
   "metadata": {},
   "outputs": [
    {
     "data": {
      "text/plain": [
       "109"
      ]
     },
     "execution_count": 86,
     "metadata": {},
     "output_type": "execute_result"
    }
   ],
   "source": [
    "letra_to_int('m')"
   ]
  },
  {
   "cell_type": "code",
   "execution_count": 11,
   "id": "fc1d6789-1874-47e7-94dd-1e42c9efdea4",
   "metadata": {},
   "outputs": [],
   "source": [
    "def int_to_letra(i: int) -> str:\n",
    "    return chr(i)"
   ]
  },
  {
   "cell_type": "code",
   "execution_count": 12,
   "id": "f57e27ce-a378-4fc7-a1f4-cf0d8d463367",
   "metadata": {},
   "outputs": [
    {
     "data": {
      "text/plain": [
       "'m'"
      ]
     },
     "execution_count": 12,
     "metadata": {},
     "output_type": "execute_result"
    }
   ],
   "source": [
    "int_to_letra(109)"
   ]
  },
  {
   "cell_type": "markdown",
   "id": "06ed02a3-d560-4bb9-8bb5-183940de5a21",
   "metadata": {},
   "source": [
    "## testando int to bin"
   ]
  },
  {
   "cell_type": "code",
   "execution_count": 14,
   "id": "9586d6a2-45c3-4d57-936b-617ae3e8146c",
   "metadata": {},
   "outputs": [
    {
     "data": {
      "text/plain": [
       "'0b1101100'"
      ]
     },
     "execution_count": 14,
     "metadata": {},
     "output_type": "execute_result"
    }
   ],
   "source": [
    "int_to_bin(108)"
   ]
  },
  {
   "cell_type": "code",
   "execution_count": 26,
   "id": "c9b57b8f-7102-47a1-9593-81e431b9242e",
   "metadata": {},
   "outputs": [],
   "source": [
    "binario_com_prefixo = '0b1100' #'0b1101100'"
   ]
  },
  {
   "cell_type": "code",
   "execution_count": 27,
   "id": "5e31b101-d92f-46c5-a3b4-db9214b0d6f8",
   "metadata": {},
   "outputs": [],
   "source": [
    "binario_sem_prefixo = binario_com_prefixo[2:]"
   ]
  },
  {
   "cell_type": "code",
   "execution_count": 28,
   "id": "baea595c-c3fd-4d80-bfe4-b15850a6554c",
   "metadata": {},
   "outputs": [],
   "source": [
    "binario_size_8 = binario_sem_prefixo"
   ]
  },
  {
   "cell_type": "code",
   "execution_count": 29,
   "id": "4b89652f-4a0d-49b6-8ac7-cb30254d8481",
   "metadata": {},
   "outputs": [],
   "source": [
    "while(len(binario_size_8)<8):\n",
    "    binario_size_8 = '0' + binario_size_8"
   ]
  },
  {
   "cell_type": "code",
   "execution_count": 30,
   "id": "329e2a20-cef3-4e2a-8a53-8429f82fc8d1",
   "metadata": {},
   "outputs": [
    {
     "data": {
      "text/plain": [
       "'00001100'"
      ]
     },
     "execution_count": 30,
     "metadata": {},
     "output_type": "execute_result"
    }
   ],
   "source": [
    "binario_size_8"
   ]
  },
  {
   "cell_type": "code",
   "execution_count": 31,
   "id": "c05e5073-fe6b-4e8d-83f3-ce96b781895c",
   "metadata": {},
   "outputs": [
    {
     "data": {
      "text/plain": [
       "['0', '0', '0', '0', '1', '1', '0', '0']"
      ]
     },
     "execution_count": 31,
     "metadata": {},
     "output_type": "execute_result"
    }
   ],
   "source": [
    "list(binario_size_8)"
   ]
  },
  {
   "cell_type": "code",
   "execution_count": 53,
   "id": "e0dfb557-0640-4ed5-afe5-9890fc3c0f94",
   "metadata": {},
   "outputs": [],
   "source": [
    "from typing import List\n",
    "def int_to_bin(i: int) -> List[int]:\n",
    "    \n",
    "    binario_com_prefixo = bin(i)\n",
    "    binario_sem_prefixo = binario_com_prefixo[2:]\n",
    "    binario_size_8 = binario_sem_prefixo\n",
    "    \n",
    "    while(len(binario_size_8)<8):\n",
    "        binario_size_8 = '0' + binario_size_8\n",
    "    \n",
    "    return [int(i) for i in list(binario_size_8)]"
   ]
  },
  {
   "cell_type": "code",
   "execution_count": 54,
   "id": "e9f6e28a-2992-437e-ac66-c706f5292c96",
   "metadata": {},
   "outputs": [
    {
     "data": {
      "text/plain": [
       "[0, 1, 1, 0, 1, 1, 0, 0]"
      ]
     },
     "execution_count": 54,
     "metadata": {},
     "output_type": "execute_result"
    }
   ],
   "source": [
    "int_to_bin(108)"
   ]
  },
  {
   "cell_type": "markdown",
   "id": "7be7b8d3-7e0f-4e55-a592-88c1298ccf72",
   "metadata": {},
   "source": [
    "## testando bin to int"
   ]
  },
  {
   "cell_type": "code",
   "execution_count": 55,
   "id": "86b4b21f-5665-4c99-86e9-9736e0ca917b",
   "metadata": {},
   "outputs": [],
   "source": [
    "binario = [0, 1, 1, 0, 1, 1, 0, 0]"
   ]
  },
  {
   "cell_type": "code",
   "execution_count": 42,
   "id": "4f191630-6491-4758-b27f-357955335113",
   "metadata": {},
   "outputs": [
    {
     "name": "stdout",
     "output_type": "stream",
     "text": [
      "0\n",
      "0\n",
      "1\n",
      "1\n",
      "0\n",
      "1\n",
      "1\n",
      "0\n"
     ]
    }
   ],
   "source": [
    "for b in reversed(binario):\n",
    "    print(b)"
   ]
  },
  {
   "cell_type": "code",
   "execution_count": 43,
   "id": "65b772ca-a633-4e77-9b32-69c6c640fd39",
   "metadata": {},
   "outputs": [
    {
     "name": "stdout",
     "output_type": "stream",
     "text": [
      "0 0\n",
      "1 0\n",
      "2 1\n",
      "3 1\n",
      "4 0\n",
      "5 1\n",
      "6 1\n",
      "7 0\n"
     ]
    }
   ],
   "source": [
    "for i, b in enumerate(reversed(binario)):\n",
    "    print(i, b)"
   ]
  },
  {
   "cell_type": "code",
   "execution_count": 56,
   "id": "4957eb5c-b016-4014-8b68-5fc44fa20358",
   "metadata": {},
   "outputs": [
    {
     "name": "stdout",
     "output_type": "stream",
     "text": [
      "0 0 1 0\n",
      "1 0 2 0\n",
      "2 1 4 4\n",
      "3 1 8 8\n",
      "4 0 16 0\n",
      "5 1 32 32\n",
      "6 1 64 64\n",
      "7 0 128 0\n",
      "108\n"
     ]
    }
   ],
   "source": [
    "numero = 0\n",
    "for i, b in enumerate(reversed(binario)):\n",
    "    numero += int(b)*(2**i)\n",
    "    print(i, b, 2**i, b*(2**i))\n",
    "print(numero)"
   ]
  },
  {
   "cell_type": "code",
   "execution_count": 57,
   "id": "a5356b46-9939-49f6-ab24-bf854afe6f6d",
   "metadata": {},
   "outputs": [],
   "source": [
    "from typing import List\n",
    "def bin_to_int(binario: List[int]) -> int:\n",
    "    numero = 0\n",
    "    for i, b in enumerate(reversed(binario)):\n",
    "        numero += int(b)*(2**i)\n",
    "    return numero"
   ]
  },
  {
   "cell_type": "code",
   "execution_count": 58,
   "id": "48f3af23-ca8f-43bf-91be-4c0722aee2cf",
   "metadata": {},
   "outputs": [
    {
     "data": {
      "text/plain": [
       "108"
      ]
     },
     "execution_count": 58,
     "metadata": {},
     "output_type": "execute_result"
    }
   ],
   "source": [
    "bin_to_int([0, 1, 1, 0, 1, 1, 0, 0])"
   ]
  },
  {
   "cell_type": "markdown",
   "id": "a425add4-d1e3-46b8-a598-2884a262a377",
   "metadata": {},
   "source": [
    "## testando XOR"
   ]
  },
  {
   "cell_type": "code",
   "execution_count": 65,
   "id": "36038555-b9a7-446e-bd9d-fd9fbec867d9",
   "metadata": {},
   "outputs": [],
   "source": [
    "bin1 = [0, 1, 1, 0, 1, 1, 0, 0]\n",
    "bin2 = [0, 1, 1, 0, 0, 1, 0, 1]"
   ]
  },
  {
   "cell_type": "code",
   "execution_count": 66,
   "id": "1093f077-acb1-4941-987f-4f0a676841d4",
   "metadata": {},
   "outputs": [],
   "source": [
    "import numpy as np"
   ]
  },
  {
   "cell_type": "code",
   "execution_count": 67,
   "id": "d9c1dba0-6e84-4b62-8ef4-4ce1474cb2d3",
   "metadata": {},
   "outputs": [
    {
     "data": {
      "text/plain": [
       "array([0, 1, 1, 0, 1, 1, 0, 0])"
      ]
     },
     "execution_count": 67,
     "metadata": {},
     "output_type": "execute_result"
    }
   ],
   "source": [
    "np.array(bin1)"
   ]
  },
  {
   "cell_type": "code",
   "execution_count": 69,
   "id": "e0e57619-c1a3-4f97-8d2c-c75026ed3ebf",
   "metadata": {},
   "outputs": [],
   "source": [
    "res = np.logical_xor(bin1, bin2)"
   ]
  },
  {
   "cell_type": "code",
   "execution_count": 70,
   "id": "34c13aea-c14c-4694-ab5d-992ff16c1444",
   "metadata": {},
   "outputs": [
    {
     "data": {
      "text/plain": [
       "array([False, False, False, False,  True, False, False,  True])"
      ]
     },
     "execution_count": 70,
     "metadata": {},
     "output_type": "execute_result"
    }
   ],
   "source": [
    "res"
   ]
  },
  {
   "cell_type": "code",
   "execution_count": 71,
   "id": "e681f045-b577-4346-8755-38c975f7d1ad",
   "metadata": {},
   "outputs": [
    {
     "data": {
      "text/plain": [
       "numpy.ndarray"
      ]
     },
     "execution_count": 71,
     "metadata": {},
     "output_type": "execute_result"
    }
   ],
   "source": [
    "type(res)"
   ]
  },
  {
   "cell_type": "code",
   "execution_count": 72,
   "id": "31d27cbd-1207-43a2-9400-a94eca39a78c",
   "metadata": {},
   "outputs": [
    {
     "data": {
      "text/plain": [
       "array([0, 0, 0, 0, 1, 0, 0, 1])"
      ]
     },
     "execution_count": 72,
     "metadata": {},
     "output_type": "execute_result"
    }
   ],
   "source": [
    "res.astype(int)"
   ]
  },
  {
   "cell_type": "code",
   "execution_count": 73,
   "id": "764dce87-98ee-48ad-a38e-f7ef75f5f75d",
   "metadata": {},
   "outputs": [
    {
     "data": {
      "text/plain": [
       "[0, 0, 0, 0, 1, 0, 0, 1]"
      ]
     },
     "execution_count": 73,
     "metadata": {},
     "output_type": "execute_result"
    }
   ],
   "source": [
    "list(res.astype(int))"
   ]
  },
  {
   "cell_type": "code",
   "execution_count": 74,
   "id": "5fa123a3-cf4d-4656-b2f6-3fbc006eb0c9",
   "metadata": {},
   "outputs": [
    {
     "data": {
      "text/plain": [
       "list"
      ]
     },
     "execution_count": 74,
     "metadata": {},
     "output_type": "execute_result"
    }
   ],
   "source": [
    "type(list(res.astype(int)))"
   ]
  },
  {
   "cell_type": "code",
   "execution_count": 94,
   "id": "6b44f90e-5564-42cd-945b-2abb95eeb092",
   "metadata": {},
   "outputs": [],
   "source": [
    "def xor_de_byte(byte1: List[int], byte2: List[int]) -> List[int]:\n",
    "    res = np.logical_xor(byte1, byte2)\n",
    "    res = res.astype(int)\n",
    "    res = list(res)\n",
    "    return res"
   ]
  },
  {
   "cell_type": "code",
   "execution_count": 95,
   "id": "2e23f8f9-aece-4845-a1f0-cea9745e53c2",
   "metadata": {},
   "outputs": [
    {
     "data": {
      "text/plain": [
       "[0, 0, 0, 0, 1, 0, 0, 0]"
      ]
     },
     "execution_count": 95,
     "metadata": {},
     "output_type": "execute_result"
    }
   ],
   "source": [
    "xor_de_byte([0, 1, 1, 0, 1, 1, 0, 0], [0, 1, 1, 0, 0, 1, 0, 0])"
   ]
  },
  {
   "cell_type": "code",
   "execution_count": 103,
   "id": "b7ed1153-009f-47fd-ac19-f97e3f0bbf16",
   "metadata": {},
   "outputs": [],
   "source": [
    "def criptografa_letra(letra1: str, letra2: str)-> str:\n",
    "    int1 = letra_to_int(letra1)\n",
    "    bin1 = int_to_bin(int1)\n",
    "    int2 = letra_to_int(letra2)\n",
    "    bin2 = int_to_bin(int2)\n",
    "    \n",
    "    res_byte = xor_de_byte(bin1, bin2)\n",
    "    \n",
    "    res_int = bin_to_int(res_byte)\n",
    "\n",
    "    res = int_to_letra(res_int)\n",
    "    print(res)\n",
    "    return res\n"
   ]
  },
  {
   "cell_type": "code",
   "execution_count": 106,
   "id": "d2aa8d02-402b-493a-89cb-584fe0df81ce",
   "metadata": {},
   "outputs": [
    {
     "name": "stdout",
     "output_type": "stream",
     "text": [
      "[0, 1, 1, 1, 0, 0, 0, 0]\n",
      "p\n"
     ]
    },
    {
     "data": {
      "text/plain": [
       "'p'"
      ]
     },
     "execution_count": 106,
     "metadata": {},
     "output_type": "execute_result"
    }
   ],
   "source": [
    "criptografa_letra('m', '\\x1d')"
   ]
  },
  {
   "cell_type": "code",
   "execution_count": 107,
   "id": "03631049-bf12-4085-b8e1-0c07f66e0ef9",
   "metadata": {},
   "outputs": [
    {
     "name": "stdout",
     "output_type": "stream",
     "text": [
      "[0, 0, 0, 0, 0, 0, 0, 0]\n",
      "\u0000\n"
     ]
    },
    {
     "data": {
      "text/plain": [
       "'\\x00'"
      ]
     },
     "execution_count": 107,
     "metadata": {},
     "output_type": "execute_result"
    }
   ],
   "source": [
    "criptografa_letra('m', 'm')"
   ]
  },
  {
   "cell_type": "code",
   "execution_count": 108,
   "id": "de2c9793-f2bd-4981-b480-df4fa60fa5c9",
   "metadata": {},
   "outputs": [
    {
     "name": "stdout",
     "output_type": "stream",
     "text": [
      "[0, 1, 1, 0, 1, 1, 0, 1]\n",
      "m\n"
     ]
    },
    {
     "data": {
      "text/plain": [
       "'m'"
      ]
     },
     "execution_count": 108,
     "metadata": {},
     "output_type": "execute_result"
    }
   ],
   "source": [
    "criptografa_letra('m', '\\x00')"
   ]
  },
  {
   "cell_type": "code",
   "execution_count": 109,
   "id": "2db18b33-fe5a-4ed4-af54-933ec4c931ae",
   "metadata": {},
   "outputs": [],
   "source": [
    "def criptografa(M: str, S: str)-> str:\n",
    "    res = ''\n",
    "    for letra, letra_senha in zip(M, S):\n",
    "        res += criptografa_letra(letra, letra_senha)\n",
    "\n",
    "    return res\n"
   ]
  },
  {
   "cell_type": "code",
   "execution_count": 110,
   "id": "735faedb-3d08-40ef-9f29-3919eb4dab71",
   "metadata": {},
   "outputs": [
    {
     "name": "stdout",
     "output_type": "stream",
     "text": [
      "[0, 0, 0, 1, 0, 0, 0, 1]\n",
      "\u0011\n",
      "[0, 0, 0, 0, 1, 0, 1, 0]\n",
      "\n",
      "\n",
      "[0, 0, 0, 0, 0, 0, 1, 1]\n",
      "\u0003\n",
      "[0, 0, 0, 0, 1, 0, 1, 0]\n",
      "\n",
      "\n",
      "[0, 0, 0, 0, 0, 0, 0, 0]\n",
      "\u0000\n"
     ]
    },
    {
     "data": {
      "text/plain": [
       "'\\x11\\n\\x03\\n\\x00'"
      ]
     },
     "execution_count": 110,
     "metadata": {},
     "output_type": "execute_result"
    }
   ],
   "source": [
    "criptografa(M, S)"
   ]
  },
  {
   "cell_type": "code",
   "execution_count": 111,
   "id": "6e6a953a-d5b2-4a5a-ac8c-e7b2af1a51d2",
   "metadata": {},
   "outputs": [
    {
     "name": "stdout",
     "output_type": "stream",
     "text": [
      "[0, 1, 1, 0, 0, 0, 1, 0]\n",
      "b\n",
      "[0, 1, 1, 0, 1, 1, 1, 1]\n",
      "o\n",
      "[0, 1, 1, 0, 1, 1, 0, 1]\n",
      "m\n",
      "[0, 1, 1, 0, 0, 0, 1, 0]\n",
      "b\n",
      "[0, 1, 1, 0, 0, 0, 0, 1]\n",
      "a\n"
     ]
    },
    {
     "data": {
      "text/plain": [
       "'bomba'"
      ]
     },
     "execution_count": 111,
     "metadata": {},
     "output_type": "execute_result"
    }
   ],
   "source": [
    "criptografa('\\x11\\n\\x03\\n\\x00', S)"
   ]
  },
  {
   "cell_type": "code",
   "execution_count": null,
   "id": "bf289978-1331-4265-83de-a7b044ae74c1",
   "metadata": {},
   "outputs": [],
   "source": []
  }
 ],
 "metadata": {
  "kernelspec": {
   "display_name": "Python 3 (ipykernel)",
   "language": "python",
   "name": "python3"
  },
  "language_info": {
   "codemirror_mode": {
    "name": "ipython",
    "version": 3
   },
   "file_extension": ".py",
   "mimetype": "text/x-python",
   "name": "python",
   "nbconvert_exporter": "python",
   "pygments_lexer": "ipython3",
   "version": "3.10.12"
  }
 },
 "nbformat": 4,
 "nbformat_minor": 5
}
